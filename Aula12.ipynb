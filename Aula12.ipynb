{
 "cells": [
  {
   "cell_type": "code",
   "execution_count": null,
   "id": "df5c0f54",
   "metadata": {},
   "outputs": [],
   "source": [
    "import subprocess as sp"
   ]
  },
  {
   "cell_type": "code",
   "execution_count": null,
   "id": "2b17e4a6",
   "metadata": {},
   "outputs": [],
   "source": [
    "retorno = sp.Popen(\"ipconfig\", stdout = sp.PIPE).communicate()[0]"
   ]
  },
  {
   "cell_type": "code",
   "execution_count": null,
   "id": "e12e4af1",
   "metadata": {},
   "outputs": [],
   "source": [
    "type(retorno)"
   ]
  },
  {
   "cell_type": "code",
   "execution_count": null,
   "id": "ae878d79",
   "metadata": {},
   "outputs": [],
   "source": [
    "retorno = retorno.decode(\"cp850\")"
   ]
  },
  {
   "cell_type": "code",
   "execution_count": null,
   "id": "9bfc2945",
   "metadata": {},
   "outputs": [],
   "source": [
    "type(retorno)"
   ]
  },
  {
   "cell_type": "code",
   "execution_count": null,
   "id": "c8837c7e",
   "metadata": {},
   "outputs": [],
   "source": [
    "print(retorno)"
   ]
  },
  {
   "cell_type": "code",
   "execution_count": null,
   "id": "a2c966b9",
   "metadata": {},
   "outputs": [],
   "source": []
  }
 ],
 "metadata": {
  "kernelspec": {
   "display_name": "Python 3 (ipykernel)",
   "language": "python",
   "name": "python3"
  },
  "language_info": {
   "codemirror_mode": {
    "name": "ipython",
    "version": 3
   },
   "file_extension": ".py",
   "mimetype": "text/x-python",
   "name": "python",
   "nbconvert_exporter": "python",
   "pygments_lexer": "ipython3",
   "version": "3.9.7"
  }
 },
 "nbformat": 4,
 "nbformat_minor": 5
}
