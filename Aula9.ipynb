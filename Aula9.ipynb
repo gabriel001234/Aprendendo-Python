{
 "cells": [
  {
   "cell_type": "code",
   "execution_count": 35,
   "id": "99e63637",
   "metadata": {},
   "outputs": [
    {
     "name": "stdout",
     "output_type": "stream",
     "text": [
      "Digite um valor numérico a classificar: 7\n"
     ]
    }
   ],
   "source": [
    "valor = input(\"Digite um valor numérico a classificar: \")"
   ]
  },
  {
   "cell_type": "code",
   "execution_count": 36,
   "id": "f35df2eb",
   "metadata": {},
   "outputs": [
    {
     "data": {
      "text/plain": [
       "str"
      ]
     },
     "execution_count": 36,
     "metadata": {},
     "output_type": "execute_result"
    }
   ],
   "source": [
    "type(valor)"
   ]
  },
  {
   "cell_type": "code",
   "execution_count": 37,
   "id": "f0aa2dd9",
   "metadata": {},
   "outputs": [],
   "source": [
    "valor = int(valor)"
   ]
  },
  {
   "cell_type": "code",
   "execution_count": 38,
   "id": "c5951b95",
   "metadata": {},
   "outputs": [
    {
     "data": {
      "text/plain": [
       "int"
      ]
     },
     "execution_count": 38,
     "metadata": {},
     "output_type": "execute_result"
    }
   ],
   "source": [
    "type(valor)"
   ]
  },
  {
   "cell_type": "code",
   "execution_count": 40,
   "id": "612582a9",
   "metadata": {},
   "outputs": [
    {
     "name": "stdout",
     "output_type": "stream",
     "text": [
      "O número é ímpar\n"
     ]
    }
   ],
   "source": [
    "resto = valor % 2\n",
    "\n",
    "if resto == 0:\n",
    "    print(\"O número é par\")\n",
    "else:\n",
    "    print(\"O número é ímpar\")"
   ]
  },
  {
   "cell_type": "code",
   "execution_count": 41,
   "id": "0c21f4a2",
   "metadata": {},
   "outputs": [
    {
     "name": "stdout",
     "output_type": "stream",
     "text": [
      "Este é o valor inserido: 7\n"
     ]
    }
   ],
   "source": [
    "print(\"Este é o valor inserido: {}\".format(valor))"
   ]
  },
  {
   "cell_type": "code",
   "execution_count": 42,
   "id": "6f8838a6",
   "metadata": {},
   "outputs": [
    {
     "name": "stdout",
     "output_type": "stream",
     "text": [
      "Este é o valor inserido 7, e este é o resto da divisão: 1\n"
     ]
    }
   ],
   "source": [
    "print(\"Este é o valor inserido {}, e este é o resto da divisão: {}\".format(valor, resto))"
   ]
  },
  {
   "cell_type": "code",
   "execution_count": 43,
   "id": "64f633ce",
   "metadata": {},
   "outputs": [
    {
     "name": "stdout",
     "output_type": "stream",
     "text": [
      "Este é o valor inserido 7, e este o resto da divisão de 7 por 2 é igual a 1\n"
     ]
    }
   ],
   "source": [
    "print(\"Este é o valor inserido {v1}, e este o resto da divisão de {v1} por 2 é igual a {v2}\".format(v1 = valor, v2 = resto))"
   ]
  },
  {
   "cell_type": "code",
   "execution_count": 52,
   "id": "52b94c70",
   "metadata": {},
   "outputs": [
    {
     "name": "stdout",
     "output_type": "stream",
     "text": [
      "Este é o valor da divisão de 7 por 2: 3.500\n"
     ]
    }
   ],
   "source": [
    "print(\"Este é o valor da divisão de {} por 2: {:.3f}\".format(valor, 7 / 2))"
   ]
  },
  {
   "cell_type": "code",
   "execution_count": null,
   "id": "2068a2c4",
   "metadata": {},
   "outputs": [],
   "source": []
  }
 ],
 "metadata": {
  "kernelspec": {
   "display_name": "Python 3 (ipykernel)",
   "language": "python",
   "name": "python3"
  },
  "language_info": {
   "codemirror_mode": {
    "name": "ipython",
    "version": 3
   },
   "file_extension": ".py",
   "mimetype": "text/x-python",
   "name": "python",
   "nbconvert_exporter": "python",
   "pygments_lexer": "ipython3",
   "version": "3.9.7"
  }
 },
 "nbformat": 4,
 "nbformat_minor": 5
}
